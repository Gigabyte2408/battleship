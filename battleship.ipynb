{
 "cells": [
  {
   "cell_type": "code",
   "execution_count": null,
   "metadata": {},
   "outputs": [],
   "source": [
    "#Created 2 players and the player class\n",
    "#Created a 10x10 board into the class using lists.\n",
    "#The self.rows and self.columns lists are for translating user input into variable calls.\n",
    "#Self.null was created to nullify the indexing method make sure self.rows[1] corresponds to the first row rather than through self.rows[0]\n",
    "p1 = \"Ghanim\"\n",
    "p2 = \"Daayam\"\n",
    "class Player:\n",
    "    def __init__(self, name):\n",
    "        self.name = name\n",
    "        self.null = []\n",
    "        self.one = ['A1', 'B1', 'C1', 'D1', 'E1', 'F1', 'G1', 'H1', 'I1', 'J1']\n",
    "        self.two = [\"A2\", \"B2\", \"C2\", \"D2\", \"E2\", \"F2\", \"G2\", \"H2\", \"I2\", \"J2\"]\n",
    "        self.three = [\"A3\", \"B3\", \"C3\", \"D3\", \"E3\", \"F3\", \"G3\", \"H3\", \"I3\", \"J3\"]\n",
    "        self.four = ['A4', 'B4', 'C4', 'D4', 'E4', 'F4', 'G4', 'H4', 'I4', 'J4']\n",
    "        self.five = ['A5', 'B5', 'C5', 'D5', 'E5', 'F5', 'G5', 'H5', 'I5', 'J5']\n",
    "        self.six = ['A6', 'B6', 'C6', 'D6', 'E6', 'F6', 'G6', 'H6', 'I6', 'J6']\n",
    "        self.seven = ['A7', 'B7', 'C7', 'D7', 'E7', 'F7', 'G7', 'H7', 'I7', 'J7']\n",
    "        self.eight = ['A8', 'B8', 'C8', 'D8', 'E8', 'F8', 'G8', 'H8', 'I8', 'J8']\n",
    "        self.nine = ['A9', 'B9', 'C9', 'D9', 'E9', 'F9', 'G9', 'H9', 'I9', 'J9']\n",
    "        self.ten = ['A10', 'B10', 'C10', 'D10', 'E10', 'F10', 'G10', 'H10', 'I10', 'J10']\n",
    "        self.rows = (self.null, self.one, self.two, self.three, self.four, self.five, self.six, self.seven, self.eight, self.nine, self.ten)\n",
    "        self.columns = {\"A\":0, \"B\": 1, \"C\":2, \"D\": 3, \"E\":4, \"F\":5, \"G\": 6, \"H\":7, \"I\":8, \"J\":9}"
   ]
  }
 ],
 "metadata": {
  "language_info": {
   "name": "python"
  },
  "orig_nbformat": 4
 },
 "nbformat": 4,
 "nbformat_minor": 2
}
